{
 "cells": [
  {
   "cell_type": "markdown",
   "id": "f6e18b99",
   "metadata": {},
   "source": [
    "# Problem Statement "
   ]
  },
  {
   "cell_type": "markdown",
   "id": "cfcf2b9a",
   "metadata": {},
   "source": [
    "We have a Mushroom Data which classified if mushroom are Editable or Poisonous ,\n",
    "According to features in it.   We will try to use this data to create a model,\n",
    "Which tried to predict if a mushroom is edible or poisonous.\n"
   ]
  },
  {
   "cell_type": "markdown",
   "id": "7e1c0922",
   "metadata": {},
   "source": [
    "# Importing Relevent Libraries"
   ]
  },
  {
   "cell_type": "code",
   "execution_count": 84,
   "id": "d64ad2d7",
   "metadata": {},
   "outputs": [],
   "source": [
    "import pandas as pd \n",
    "import numpy as np\n",
    "import seaborn as sns\n",
    "import matplotlib.pyplot as plt"
   ]
  },
  {
   "cell_type": "markdown",
   "id": "e61ee39b",
   "metadata": {},
   "source": [
    "# Reading and Understanding the Data "
   ]
  },
  {
   "cell_type": "code",
   "execution_count": 12,
   "id": "5f139ade",
   "metadata": {},
   "outputs": [],
   "source": [
    "ms = pd.read_csv(\"G:\\python\\mushroomsDT.csv\")"
   ]
  },
  {
   "cell_type": "code",
   "execution_count": 13,
   "id": "0bb82eeb",
   "metadata": {},
   "outputs": [
    {
     "data": {
      "text/html": [
       "<div>\n",
       "<style scoped>\n",
       "    .dataframe tbody tr th:only-of-type {\n",
       "        vertical-align: middle;\n",
       "    }\n",
       "\n",
       "    .dataframe tbody tr th {\n",
       "        vertical-align: top;\n",
       "    }\n",
       "\n",
       "    .dataframe thead th {\n",
       "        text-align: right;\n",
       "    }\n",
       "</style>\n",
       "<table border=\"1\" class=\"dataframe\">\n",
       "  <thead>\n",
       "    <tr style=\"text-align: right;\">\n",
       "      <th></th>\n",
       "      <th>class</th>\n",
       "      <th>cap-shape</th>\n",
       "      <th>cap-surface</th>\n",
       "      <th>cap-color</th>\n",
       "      <th>bruises</th>\n",
       "      <th>odor</th>\n",
       "      <th>gill-attachment</th>\n",
       "      <th>gill-spacing</th>\n",
       "      <th>gill-size</th>\n",
       "      <th>gill-color</th>\n",
       "      <th>...</th>\n",
       "      <th>stalk-surface-below-ring</th>\n",
       "      <th>stalk-color-above-ring</th>\n",
       "      <th>stalk-color-below-ring</th>\n",
       "      <th>veil-type</th>\n",
       "      <th>veil-color</th>\n",
       "      <th>ring-number</th>\n",
       "      <th>ring-type</th>\n",
       "      <th>spore-print-color</th>\n",
       "      <th>population</th>\n",
       "      <th>habitat</th>\n",
       "    </tr>\n",
       "  </thead>\n",
       "  <tbody>\n",
       "    <tr>\n",
       "      <th>0</th>\n",
       "      <td>p</td>\n",
       "      <td>x</td>\n",
       "      <td>s</td>\n",
       "      <td>n</td>\n",
       "      <td>t</td>\n",
       "      <td>p</td>\n",
       "      <td>f</td>\n",
       "      <td>c</td>\n",
       "      <td>n</td>\n",
       "      <td>k</td>\n",
       "      <td>...</td>\n",
       "      <td>s</td>\n",
       "      <td>w</td>\n",
       "      <td>w</td>\n",
       "      <td>p</td>\n",
       "      <td>w</td>\n",
       "      <td>o</td>\n",
       "      <td>p</td>\n",
       "      <td>k</td>\n",
       "      <td>s</td>\n",
       "      <td>u</td>\n",
       "    </tr>\n",
       "    <tr>\n",
       "      <th>1</th>\n",
       "      <td>e</td>\n",
       "      <td>x</td>\n",
       "      <td>s</td>\n",
       "      <td>y</td>\n",
       "      <td>t</td>\n",
       "      <td>a</td>\n",
       "      <td>f</td>\n",
       "      <td>c</td>\n",
       "      <td>b</td>\n",
       "      <td>k</td>\n",
       "      <td>...</td>\n",
       "      <td>s</td>\n",
       "      <td>w</td>\n",
       "      <td>w</td>\n",
       "      <td>p</td>\n",
       "      <td>w</td>\n",
       "      <td>o</td>\n",
       "      <td>p</td>\n",
       "      <td>n</td>\n",
       "      <td>n</td>\n",
       "      <td>g</td>\n",
       "    </tr>\n",
       "    <tr>\n",
       "      <th>2</th>\n",
       "      <td>e</td>\n",
       "      <td>b</td>\n",
       "      <td>s</td>\n",
       "      <td>w</td>\n",
       "      <td>t</td>\n",
       "      <td>l</td>\n",
       "      <td>f</td>\n",
       "      <td>c</td>\n",
       "      <td>b</td>\n",
       "      <td>n</td>\n",
       "      <td>...</td>\n",
       "      <td>s</td>\n",
       "      <td>w</td>\n",
       "      <td>w</td>\n",
       "      <td>p</td>\n",
       "      <td>w</td>\n",
       "      <td>o</td>\n",
       "      <td>p</td>\n",
       "      <td>n</td>\n",
       "      <td>n</td>\n",
       "      <td>m</td>\n",
       "    </tr>\n",
       "    <tr>\n",
       "      <th>3</th>\n",
       "      <td>p</td>\n",
       "      <td>x</td>\n",
       "      <td>y</td>\n",
       "      <td>w</td>\n",
       "      <td>t</td>\n",
       "      <td>p</td>\n",
       "      <td>f</td>\n",
       "      <td>c</td>\n",
       "      <td>n</td>\n",
       "      <td>n</td>\n",
       "      <td>...</td>\n",
       "      <td>s</td>\n",
       "      <td>w</td>\n",
       "      <td>w</td>\n",
       "      <td>p</td>\n",
       "      <td>w</td>\n",
       "      <td>o</td>\n",
       "      <td>p</td>\n",
       "      <td>k</td>\n",
       "      <td>s</td>\n",
       "      <td>u</td>\n",
       "    </tr>\n",
       "    <tr>\n",
       "      <th>4</th>\n",
       "      <td>e</td>\n",
       "      <td>x</td>\n",
       "      <td>s</td>\n",
       "      <td>g</td>\n",
       "      <td>f</td>\n",
       "      <td>n</td>\n",
       "      <td>f</td>\n",
       "      <td>w</td>\n",
       "      <td>b</td>\n",
       "      <td>k</td>\n",
       "      <td>...</td>\n",
       "      <td>s</td>\n",
       "      <td>w</td>\n",
       "      <td>w</td>\n",
       "      <td>p</td>\n",
       "      <td>w</td>\n",
       "      <td>o</td>\n",
       "      <td>e</td>\n",
       "      <td>n</td>\n",
       "      <td>a</td>\n",
       "      <td>g</td>\n",
       "    </tr>\n",
       "  </tbody>\n",
       "</table>\n",
       "<p>5 rows × 23 columns</p>\n",
       "</div>"
      ],
      "text/plain": [
       "  class cap-shape cap-surface cap-color bruises odor gill-attachment  \\\n",
       "0     p         x           s         n       t    p               f   \n",
       "1     e         x           s         y       t    a               f   \n",
       "2     e         b           s         w       t    l               f   \n",
       "3     p         x           y         w       t    p               f   \n",
       "4     e         x           s         g       f    n               f   \n",
       "\n",
       "  gill-spacing gill-size gill-color  ... stalk-surface-below-ring  \\\n",
       "0            c         n          k  ...                        s   \n",
       "1            c         b          k  ...                        s   \n",
       "2            c         b          n  ...                        s   \n",
       "3            c         n          n  ...                        s   \n",
       "4            w         b          k  ...                        s   \n",
       "\n",
       "  stalk-color-above-ring stalk-color-below-ring veil-type veil-color  \\\n",
       "0                      w                      w         p          w   \n",
       "1                      w                      w         p          w   \n",
       "2                      w                      w         p          w   \n",
       "3                      w                      w         p          w   \n",
       "4                      w                      w         p          w   \n",
       "\n",
       "  ring-number ring-type spore-print-color population habitat  \n",
       "0           o         p                 k          s       u  \n",
       "1           o         p                 n          n       g  \n",
       "2           o         p                 n          n       m  \n",
       "3           o         p                 k          s       u  \n",
       "4           o         e                 n          a       g  \n",
       "\n",
       "[5 rows x 23 columns]"
      ]
     },
     "execution_count": 13,
     "metadata": {},
     "output_type": "execute_result"
    }
   ],
   "source": [
    "ms.head()"
   ]
  },
  {
   "cell_type": "code",
   "execution_count": 14,
   "id": "941977d2",
   "metadata": {},
   "outputs": [
    {
     "data": {
      "text/plain": [
       "(8124, 23)"
      ]
     },
     "execution_count": 14,
     "metadata": {},
     "output_type": "execute_result"
    }
   ],
   "source": [
    "# lets see the no of rows and columns we have \n",
    "ms.shape"
   ]
  },
  {
   "cell_type": "code",
   "execution_count": 15,
   "id": "5c76a99f",
   "metadata": {},
   "outputs": [
    {
     "name": "stdout",
     "output_type": "stream",
     "text": [
      "<class 'pandas.core.frame.DataFrame'>\n",
      "RangeIndex: 8124 entries, 0 to 8123\n",
      "Data columns (total 23 columns):\n",
      " #   Column                    Non-Null Count  Dtype \n",
      "---  ------                    --------------  ----- \n",
      " 0   class                     8124 non-null   object\n",
      " 1   cap-shape                 8124 non-null   object\n",
      " 2   cap-surface               8124 non-null   object\n",
      " 3   cap-color                 8124 non-null   object\n",
      " 4   bruises                   8124 non-null   object\n",
      " 5   odor                      8124 non-null   object\n",
      " 6   gill-attachment           8124 non-null   object\n",
      " 7   gill-spacing              8124 non-null   object\n",
      " 8   gill-size                 8124 non-null   object\n",
      " 9   gill-color                8124 non-null   object\n",
      " 10  stalk-shape               8124 non-null   object\n",
      " 11  stalk-root                8124 non-null   object\n",
      " 12  stalk-surface-above-ring  8124 non-null   object\n",
      " 13  stalk-surface-below-ring  8124 non-null   object\n",
      " 14  stalk-color-above-ring    8124 non-null   object\n",
      " 15  stalk-color-below-ring    8124 non-null   object\n",
      " 16  veil-type                 8124 non-null   object\n",
      " 17  veil-color                8124 non-null   object\n",
      " 18  ring-number               8124 non-null   object\n",
      " 19  ring-type                 8124 non-null   object\n",
      " 20  spore-print-color         8124 non-null   object\n",
      " 21  population                8124 non-null   object\n",
      " 22  habitat                   8124 non-null   object\n",
      "dtypes: object(23)\n",
      "memory usage: 1.4+ MB\n"
     ]
    }
   ],
   "source": [
    "# lets see the information of the dataset \n",
    "ms.info()"
   ]
  },
  {
   "cell_type": "code",
   "execution_count": 16,
   "id": "43a2cd7f",
   "metadata": {},
   "outputs": [
    {
     "data": {
      "text/html": [
       "<div>\n",
       "<style scoped>\n",
       "    .dataframe tbody tr th:only-of-type {\n",
       "        vertical-align: middle;\n",
       "    }\n",
       "\n",
       "    .dataframe tbody tr th {\n",
       "        vertical-align: top;\n",
       "    }\n",
       "\n",
       "    .dataframe thead th {\n",
       "        text-align: right;\n",
       "    }\n",
       "</style>\n",
       "<table border=\"1\" class=\"dataframe\">\n",
       "  <thead>\n",
       "    <tr style=\"text-align: right;\">\n",
       "      <th></th>\n",
       "      <th>class</th>\n",
       "      <th>cap-shape</th>\n",
       "      <th>cap-surface</th>\n",
       "      <th>cap-color</th>\n",
       "      <th>bruises</th>\n",
       "      <th>odor</th>\n",
       "      <th>gill-attachment</th>\n",
       "      <th>gill-spacing</th>\n",
       "      <th>gill-size</th>\n",
       "      <th>gill-color</th>\n",
       "      <th>...</th>\n",
       "      <th>stalk-surface-below-ring</th>\n",
       "      <th>stalk-color-above-ring</th>\n",
       "      <th>stalk-color-below-ring</th>\n",
       "      <th>veil-type</th>\n",
       "      <th>veil-color</th>\n",
       "      <th>ring-number</th>\n",
       "      <th>ring-type</th>\n",
       "      <th>spore-print-color</th>\n",
       "      <th>population</th>\n",
       "      <th>habitat</th>\n",
       "    </tr>\n",
       "  </thead>\n",
       "  <tbody>\n",
       "    <tr>\n",
       "      <th>count</th>\n",
       "      <td>8124</td>\n",
       "      <td>8124</td>\n",
       "      <td>8124</td>\n",
       "      <td>8124</td>\n",
       "      <td>8124</td>\n",
       "      <td>8124</td>\n",
       "      <td>8124</td>\n",
       "      <td>8124</td>\n",
       "      <td>8124</td>\n",
       "      <td>8124</td>\n",
       "      <td>...</td>\n",
       "      <td>8124</td>\n",
       "      <td>8124</td>\n",
       "      <td>8124</td>\n",
       "      <td>8124</td>\n",
       "      <td>8124</td>\n",
       "      <td>8124</td>\n",
       "      <td>8124</td>\n",
       "      <td>8124</td>\n",
       "      <td>8124</td>\n",
       "      <td>8124</td>\n",
       "    </tr>\n",
       "    <tr>\n",
       "      <th>unique</th>\n",
       "      <td>2</td>\n",
       "      <td>6</td>\n",
       "      <td>4</td>\n",
       "      <td>10</td>\n",
       "      <td>2</td>\n",
       "      <td>9</td>\n",
       "      <td>2</td>\n",
       "      <td>2</td>\n",
       "      <td>2</td>\n",
       "      <td>12</td>\n",
       "      <td>...</td>\n",
       "      <td>4</td>\n",
       "      <td>9</td>\n",
       "      <td>9</td>\n",
       "      <td>1</td>\n",
       "      <td>4</td>\n",
       "      <td>3</td>\n",
       "      <td>5</td>\n",
       "      <td>9</td>\n",
       "      <td>6</td>\n",
       "      <td>7</td>\n",
       "    </tr>\n",
       "    <tr>\n",
       "      <th>top</th>\n",
       "      <td>e</td>\n",
       "      <td>x</td>\n",
       "      <td>y</td>\n",
       "      <td>n</td>\n",
       "      <td>f</td>\n",
       "      <td>n</td>\n",
       "      <td>f</td>\n",
       "      <td>c</td>\n",
       "      <td>b</td>\n",
       "      <td>b</td>\n",
       "      <td>...</td>\n",
       "      <td>s</td>\n",
       "      <td>w</td>\n",
       "      <td>w</td>\n",
       "      <td>p</td>\n",
       "      <td>w</td>\n",
       "      <td>o</td>\n",
       "      <td>p</td>\n",
       "      <td>w</td>\n",
       "      <td>v</td>\n",
       "      <td>d</td>\n",
       "    </tr>\n",
       "    <tr>\n",
       "      <th>freq</th>\n",
       "      <td>4208</td>\n",
       "      <td>3656</td>\n",
       "      <td>3244</td>\n",
       "      <td>2284</td>\n",
       "      <td>4748</td>\n",
       "      <td>3528</td>\n",
       "      <td>7914</td>\n",
       "      <td>6812</td>\n",
       "      <td>5612</td>\n",
       "      <td>1728</td>\n",
       "      <td>...</td>\n",
       "      <td>4936</td>\n",
       "      <td>4464</td>\n",
       "      <td>4384</td>\n",
       "      <td>8124</td>\n",
       "      <td>7924</td>\n",
       "      <td>7488</td>\n",
       "      <td>3968</td>\n",
       "      <td>2388</td>\n",
       "      <td>4040</td>\n",
       "      <td>3148</td>\n",
       "    </tr>\n",
       "  </tbody>\n",
       "</table>\n",
       "<p>4 rows × 23 columns</p>\n",
       "</div>"
      ],
      "text/plain": [
       "       class cap-shape cap-surface cap-color bruises  odor gill-attachment  \\\n",
       "count   8124      8124        8124      8124    8124  8124            8124   \n",
       "unique     2         6           4        10       2     9               2   \n",
       "top        e         x           y         n       f     n               f   \n",
       "freq    4208      3656        3244      2284    4748  3528            7914   \n",
       "\n",
       "       gill-spacing gill-size gill-color  ... stalk-surface-below-ring  \\\n",
       "count          8124      8124       8124  ...                     8124   \n",
       "unique            2         2         12  ...                        4   \n",
       "top               c         b          b  ...                        s   \n",
       "freq           6812      5612       1728  ...                     4936   \n",
       "\n",
       "       stalk-color-above-ring stalk-color-below-ring veil-type veil-color  \\\n",
       "count                    8124                   8124      8124       8124   \n",
       "unique                      9                      9         1          4   \n",
       "top                         w                      w         p          w   \n",
       "freq                     4464                   4384      8124       7924   \n",
       "\n",
       "       ring-number ring-type spore-print-color population habitat  \n",
       "count         8124      8124              8124       8124    8124  \n",
       "unique           3         5                 9          6       7  \n",
       "top              o         p                 w          v       d  \n",
       "freq          7488      3968              2388       4040    3148  \n",
       "\n",
       "[4 rows x 23 columns]"
      ]
     },
     "execution_count": 16,
     "metadata": {},
     "output_type": "execute_result"
    }
   ],
   "source": [
    "# describe function shows only numeric data \n",
    "ms.describe()"
   ]
  },
  {
   "cell_type": "markdown",
   "id": "b2cc0fb4",
   "metadata": {},
   "source": [
    "# Lets fill the Nulls "
   ]
  },
  {
   "cell_type": "code",
   "execution_count": 17,
   "id": "35df5b28",
   "metadata": {
    "scrolled": false
   },
   "outputs": [
    {
     "data": {
      "text/plain": [
       "class                       0\n",
       "cap-shape                   0\n",
       "cap-surface                 0\n",
       "cap-color                   0\n",
       "bruises                     0\n",
       "odor                        0\n",
       "gill-attachment             0\n",
       "gill-spacing                0\n",
       "gill-size                   0\n",
       "gill-color                  0\n",
       "stalk-shape                 0\n",
       "stalk-root                  0\n",
       "stalk-surface-above-ring    0\n",
       "stalk-surface-below-ring    0\n",
       "stalk-color-above-ring      0\n",
       "stalk-color-below-ring      0\n",
       "veil-type                   0\n",
       "veil-color                  0\n",
       "ring-number                 0\n",
       "ring-type                   0\n",
       "spore-print-color           0\n",
       "population                  0\n",
       "habitat                     0\n",
       "dtype: int64"
      ]
     },
     "execution_count": 17,
     "metadata": {},
     "output_type": "execute_result"
    }
   ],
   "source": [
    "ms.isnull().sum()"
   ]
  },
  {
   "cell_type": "code",
   "execution_count": 18,
   "id": "f2ee9781",
   "metadata": {},
   "outputs": [],
   "source": [
    "# there is no nulls present in the data "
   ]
  },
  {
   "cell_type": "markdown",
   "id": "dc01f739",
   "metadata": {},
   "source": [
    "# Data Exploration"
   ]
  },
  {
   "cell_type": "code",
   "execution_count": 20,
   "id": "2908c092",
   "metadata": {
    "scrolled": true
   },
   "outputs": [
    {
     "data": {
      "text/plain": [
       "e    4208\n",
       "p    3916\n",
       "Name: class, dtype: int64"
      ]
     },
     "execution_count": 20,
     "metadata": {},
     "output_type": "execute_result"
    }
   ],
   "source": [
    "ms['class'].value_counts()   \n",
    "# e = editable \n",
    "# p = Poissonous"
   ]
  },
  {
   "cell_type": "code",
   "execution_count": 23,
   "id": "169e67a5",
   "metadata": {},
   "outputs": [
    {
     "data": {
      "text/plain": [
       "<AxesSubplot:xlabel='class', ylabel='count'>"
      ]
     },
     "execution_count": 23,
     "metadata": {},
     "output_type": "execute_result"
    },
    {
     "data": {
      "image/png": "[encoded data removed]",
      "text/plain": [
       "<Figure size 432x288 with 1 Axes>"
      ]
     },
     "metadata": {
      "needs_background": "light"
     },
     "output_type": "display_data"
    }
   ],
   "source": [
    "sns.countplot(x= \"class\" , data = ms , palette= \"bwr\")\n"
   ]
  },
  {
   "cell_type": "code",
   "execution_count": null,
   "id": "548ea23e",
   "metadata": {},
   "outputs": [],
   "source": []
  },
  {
   "cell_type": "markdown",
   "id": "efceaff0",
   "metadata": {},
   "source": [
    "# Lets fill the Categorical Values with the Numeric Values"
   ]
  },
  {
   "cell_type": "code",
   "execution_count": 24,
   "id": "b3cd04e9",
   "metadata": {},
   "outputs": [],
   "source": [
    "from sklearn.preprocessing import LabelEncoder"
   ]
  },
  {
   "cell_type": "code",
   "execution_count": 25,
   "id": "508a2059",
   "metadata": {},
   "outputs": [],
   "source": [
    "le = LabelEncoder()"
   ]
  },
  {
   "cell_type": "code",
   "execution_count": 26,
   "id": "870d5c47",
   "metadata": {},
   "outputs": [],
   "source": [
    "ms[\"class\"]=ms[\"class\"].replace({'p':0, 'e':1})"
   ]
  },
  {
   "cell_type": "code",
   "execution_count": 27,
   "id": "c4aaa25e",
   "metadata": {},
   "outputs": [],
   "source": [
    "ms[ms.select_dtypes(include='object').columns]=ms[ms.select_dtypes(include='object').columns].apply(le.fit_transform)"
   ]
  },
  {
   "cell_type": "code",
   "execution_count": 28,
   "id": "01097b61",
   "metadata": {},
   "outputs": [
    {
     "data": {
      "text/html": [
       "<div>\n",
       "<style scoped>\n",
       "    .dataframe tbody tr th:only-of-type {\n",
       "        vertical-align: middle;\n",
       "    }\n",
       "\n",
       "    .dataframe tbody tr th {\n",
       "        vertical-align: top;\n",
       "    }\n",
       "\n",
       "    .dataframe thead th {\n",
       "        text-align: right;\n",
       "    }\n",
       "</style>\n",
       "<table border=\"1\" class=\"dataframe\">\n",
       "  <thead>\n",
       "    <tr style=\"text-align: right;\">\n",
       "      <th></th>\n",
       "      <th>class</th>\n",
       "      <th>cap-shape</th>\n",
       "      <th>cap-surface</th>\n",
       "      <th>cap-color</th>\n",
       "      <th>bruises</th>\n",
       "      <th>odor</th>\n",
       "      <th>gill-attachment</th>\n",
       "      <th>gill-spacing</th>\n",
       "      <th>gill-size</th>\n",
       "      <th>gill-color</th>\n",
       "      <th>...</th>\n",
       "      <th>stalk-surface-below-ring</th>\n",
       "      <th>stalk-color-above-ring</th>\n",
       "      <th>stalk-color-below-ring</th>\n",
       "      <th>veil-type</th>\n",
       "      <th>veil-color</th>\n",
       "      <th>ring-number</th>\n",
       "      <th>ring-type</th>\n",
       "      <th>spore-print-color</th>\n",
       "      <th>population</th>\n",
       "      <th>habitat</th>\n",
       "    </tr>\n",
       "  </thead>\n",
       "  <tbody>\n",
       "    <tr>\n",
       "      <th>0</th>\n",
       "      <td>0</td>\n",
       "      <td>5</td>\n",
       "      <td>2</td>\n",
       "      <td>4</td>\n",
       "      <td>1</td>\n",
       "      <td>6</td>\n",
       "      <td>1</td>\n",
       "      <td>0</td>\n",
       "      <td>1</td>\n",
       "      <td>4</td>\n",
       "      <td>...</td>\n",
       "      <td>2</td>\n",
       "      <td>7</td>\n",
       "      <td>7</td>\n",
       "      <td>0</td>\n",
       "      <td>2</td>\n",
       "      <td>1</td>\n",
       "      <td>4</td>\n",
       "      <td>2</td>\n",
       "      <td>3</td>\n",
       "      <td>5</td>\n",
       "    </tr>\n",
       "    <tr>\n",
       "      <th>1</th>\n",
       "      <td>1</td>\n",
       "      <td>5</td>\n",
       "      <td>2</td>\n",
       "      <td>9</td>\n",
       "      <td>1</td>\n",
       "      <td>0</td>\n",
       "      <td>1</td>\n",
       "      <td>0</td>\n",
       "      <td>0</td>\n",
       "      <td>4</td>\n",
       "      <td>...</td>\n",
       "      <td>2</td>\n",
       "      <td>7</td>\n",
       "      <td>7</td>\n",
       "      <td>0</td>\n",
       "      <td>2</td>\n",
       "      <td>1</td>\n",
       "      <td>4</td>\n",
       "      <td>3</td>\n",
       "      <td>2</td>\n",
       "      <td>1</td>\n",
       "    </tr>\n",
       "    <tr>\n",
       "      <th>2</th>\n",
       "      <td>1</td>\n",
       "      <td>0</td>\n",
       "      <td>2</td>\n",
       "      <td>8</td>\n",
       "      <td>1</td>\n",
       "      <td>3</td>\n",
       "      <td>1</td>\n",
       "      <td>0</td>\n",
       "      <td>0</td>\n",
       "      <td>5</td>\n",
       "      <td>...</td>\n",
       "      <td>2</td>\n",
       "      <td>7</td>\n",
       "      <td>7</td>\n",
       "      <td>0</td>\n",
       "      <td>2</td>\n",
       "      <td>1</td>\n",
       "      <td>4</td>\n",
       "      <td>3</td>\n",
       "      <td>2</td>\n",
       "      <td>3</td>\n",
       "    </tr>\n",
       "    <tr>\n",
       "      <th>3</th>\n",
       "      <td>0</td>\n",
       "      <td>5</td>\n",
       "      <td>3</td>\n",
       "      <td>8</td>\n",
       "      <td>1</td>\n",
       "      <td>6</td>\n",
       "      <td>1</td>\n",
       "      <td>0</td>\n",
       "      <td>1</td>\n",
       "      <td>5</td>\n",
       "      <td>...</td>\n",
       "      <td>2</td>\n",
       "      <td>7</td>\n",
       "      <td>7</td>\n",
       "      <td>0</td>\n",
       "      <td>2</td>\n",
       "      <td>1</td>\n",
       "      <td>4</td>\n",
       "      <td>2</td>\n",
       "      <td>3</td>\n",
       "      <td>5</td>\n",
       "    </tr>\n",
       "    <tr>\n",
       "      <th>4</th>\n",
       "      <td>1</td>\n",
       "      <td>5</td>\n",
       "      <td>2</td>\n",
       "      <td>3</td>\n",
       "      <td>0</td>\n",
       "      <td>5</td>\n",
       "      <td>1</td>\n",
       "      <td>1</td>\n",
       "      <td>0</td>\n",
       "      <td>4</td>\n",
       "      <td>...</td>\n",
       "      <td>2</td>\n",
       "      <td>7</td>\n",
       "      <td>7</td>\n",
       "      <td>0</td>\n",
       "      <td>2</td>\n",
       "      <td>1</td>\n",
       "      <td>0</td>\n",
       "      <td>3</td>\n",
       "      <td>0</td>\n",
       "      <td>1</td>\n",
       "    </tr>\n",
       "  </tbody>\n",
       "</table>\n",
       "<p>5 rows × 23 columns</p>\n",
       "</div>"
      ],
      "text/plain": [
       "   class  cap-shape  cap-surface  cap-color  bruises  odor  gill-attachment  \\\n",
       "0      0          5            2          4        1     6                1   \n",
       "1      1          5            2          9        1     0                1   \n",
       "2      1          0            2          8        1     3                1   \n",
       "3      0          5            3          8        1     6                1   \n",
       "4      1          5            2          3        0     5                1   \n",
       "\n",
       "   gill-spacing  gill-size  gill-color  ...  stalk-surface-below-ring  \\\n",
       "0             0          1           4  ...                         2   \n",
       "1             0          0           4  ...                         2   \n",
       "2             0          0           5  ...                         2   \n",
       "3             0          1           5  ...                         2   \n",
       "4             1          0           4  ...                         2   \n",
       "\n",
       "   stalk-color-above-ring  stalk-color-below-ring  veil-type  veil-color  \\\n",
       "0                       7                       7          0           2   \n",
       "1                       7                       7          0           2   \n",
       "2                       7                       7          0           2   \n",
       "3                       7                       7          0           2   \n",
       "4                       7                       7          0           2   \n",
       "\n",
       "   ring-number  ring-type  spore-print-color  population  habitat  \n",
       "0            1          4                  2           3        5  \n",
       "1            1          4                  3           2        1  \n",
       "2            1          4                  3           2        3  \n",
       "3            1          4                  2           3        5  \n",
       "4            1          0                  3           0        1  \n",
       "\n",
       "[5 rows x 23 columns]"
      ]
     },
     "execution_count": 28,
     "metadata": {},
     "output_type": "execute_result"
    }
   ],
   "source": [
    "ms.head()"
   ]
  },
  {
   "cell_type": "markdown",
   "id": "add4286d",
   "metadata": {},
   "source": [
    "# Lets Split the Data into Train and Test"
   ]
  },
  {
   "cell_type": "code",
   "execution_count": 29,
   "id": "a77c69ad",
   "metadata": {},
   "outputs": [],
   "source": [
    "from sklearn.model_selection import train_test_split"
   ]
  },
  {
   "cell_type": "code",
   "execution_count": 30,
   "id": "0f959906",
   "metadata": {},
   "outputs": [],
   "source": [
    "ms_train, ms_test = train_test_split(ms, test_size= .2)"
   ]
  },
  {
   "cell_type": "code",
   "execution_count": 31,
   "id": "3781d435",
   "metadata": {},
   "outputs": [],
   "source": [
    "ms_train_x = ms_train.iloc[:,1::]\n",
    "ms_train_y = ms_train.iloc[:, 0]"
   ]
  },
  {
   "cell_type": "code",
   "execution_count": 32,
   "id": "93fb087d",
   "metadata": {},
   "outputs": [],
   "source": [
    "ms_test_x = ms_test.iloc[:,1::]\n",
    "ms_test_y = ms_test.iloc[:, 0]"
   ]
  },
  {
   "cell_type": "markdown",
   "id": "0190594d",
   "metadata": {},
   "source": [
    "# Lets Create a Dicision tree model for Classification based on Gini and Entropy"
   ]
  },
  {
   "cell_type": "code",
   "execution_count": 33,
   "id": "d32d23e3",
   "metadata": {},
   "outputs": [],
   "source": [
    "from sklearn.tree import DecisionTreeClassifier"
   ]
  },
  {
   "cell_type": "code",
   "execution_count": 40,
   "id": "7745f001",
   "metadata": {
    "scrolled": true
   },
   "outputs": [
    {
     "data": {
      "text/plain": [
       "array([0.        , 0.        , 0.00335368, 0.02672259, 0.03797506,\n",
       "       0.        , 0.        , 0.1253284 , 0.34301216, 0.02668581,\n",
       "       0.00909055, 0.        , 0.00654473, 0.        , 0.        ,\n",
       "       0.        , 0.        , 0.01890353, 0.0091768 , 0.20665239,\n",
       "       0.17397597, 0.01257833])"
      ]
     },
     "execution_count": 40,
     "metadata": {},
     "output_type": "execute_result"
    }
   ],
   "source": [
    "dt_ms.feature_importances_"
   ]
  },
  {
   "cell_type": "code",
   "execution_count": 41,
   "id": "671d4f09",
   "metadata": {},
   "outputs": [
    {
     "data": {
      "text/plain": [
       "0.9999999999999999"
      ]
     },
     "execution_count": 41,
     "metadata": {},
     "output_type": "execute_result"
    }
   ],
   "source": [
    "dt_ms.feature_importances_.sum()"
   ]
  },
  {
   "cell_type": "code",
   "execution_count": 79,
   "id": "4d0b2946",
   "metadata": {},
   "outputs": [
    {
     "data": {
      "text/plain": [
       "Index(['cap-shape', 'cap-surface', 'cap-color', 'bruises', 'odor',\n",
       "       'gill-attachment', 'gill-spacing', 'gill-size', 'gill-color',\n",
       "       'stalk-shape', 'stalk-root', 'stalk-surface-above-ring',\n",
       "       'stalk-surface-below-ring', 'stalk-color-above-ring',\n",
       "       'stalk-color-below-ring', 'veil-type', 'veil-color', 'ring-number',\n",
       "       'ring-type', 'spore-print-color', 'population', 'habitat'],\n",
       "      dtype='object')"
      ]
     },
     "execution_count": 79,
     "metadata": {},
     "output_type": "execute_result"
    }
   ],
   "source": [
    "ms_train_x.columns"
   ]
  },
  {
   "cell_type": "code",
   "execution_count": 80,
   "id": "235f45ef",
   "metadata": {},
   "outputs": [],
   "source": [
    "feature_imp = pd.DataFrame({'Features' : ms_train_x.columns , 'Importance':dt_ms.feature_importances_})"
   ]
  },
  {
   "cell_type": "code",
   "execution_count": 81,
   "id": "1b36b3f0",
   "metadata": {
    "scrolled": false
   },
   "outputs": [
    {
     "data": {
      "text/html": [
       "<div>\n",
       "<style scoped>\n",
       "    .dataframe tbody tr th:only-of-type {\n",
       "        vertical-align: middle;\n",
       "    }\n",
       "\n",
       "    .dataframe tbody tr th {\n",
       "        vertical-align: top;\n",
       "    }\n",
       "\n",
       "    .dataframe thead th {\n",
       "        text-align: right;\n",
       "    }\n",
       "</style>\n",
       "<table border=\"1\" class=\"dataframe\">\n",
       "  <thead>\n",
       "    <tr style=\"text-align: right;\">\n",
       "      <th></th>\n",
       "      <th>Features</th>\n",
       "      <th>Importance</th>\n",
       "    </tr>\n",
       "  </thead>\n",
       "  <tbody>\n",
       "    <tr>\n",
       "      <th>8</th>\n",
       "      <td>gill-color</td>\n",
       "      <td>0.347765</td>\n",
       "    </tr>\n",
       "    <tr>\n",
       "      <th>19</th>\n",
       "      <td>spore-print-color</td>\n",
       "      <td>0.198923</td>\n",
       "    </tr>\n",
       "    <tr>\n",
       "      <th>20</th>\n",
       "      <td>population</td>\n",
       "      <td>0.185939</td>\n",
       "    </tr>\n",
       "    <tr>\n",
       "      <th>7</th>\n",
       "      <td>gill-size</td>\n",
       "      <td>0.118393</td>\n",
       "    </tr>\n",
       "    <tr>\n",
       "      <th>4</th>\n",
       "      <td>odor</td>\n",
       "      <td>0.035387</td>\n",
       "    </tr>\n",
       "    <tr>\n",
       "      <th>3</th>\n",
       "      <td>bruises</td>\n",
       "      <td>0.027519</td>\n",
       "    </tr>\n",
       "    <tr>\n",
       "      <th>9</th>\n",
       "      <td>stalk-shape</td>\n",
       "      <td>0.025660</td>\n",
       "    </tr>\n",
       "    <tr>\n",
       "      <th>21</th>\n",
       "      <td>habitat</td>\n",
       "      <td>0.025498</td>\n",
       "    </tr>\n",
       "    <tr>\n",
       "      <th>13</th>\n",
       "      <td>stalk-color-above-ring</td>\n",
       "      <td>0.015403</td>\n",
       "    </tr>\n",
       "    <tr>\n",
       "      <th>10</th>\n",
       "      <td>stalk-root</td>\n",
       "      <td>0.013345</td>\n",
       "    </tr>\n",
       "    <tr>\n",
       "      <th>2</th>\n",
       "      <td>cap-color</td>\n",
       "      <td>0.003956</td>\n",
       "    </tr>\n",
       "    <tr>\n",
       "      <th>17</th>\n",
       "      <td>ring-number</td>\n",
       "      <td>0.001399</td>\n",
       "    </tr>\n",
       "    <tr>\n",
       "      <th>12</th>\n",
       "      <td>stalk-surface-below-ring</td>\n",
       "      <td>0.000811</td>\n",
       "    </tr>\n",
       "    <tr>\n",
       "      <th>16</th>\n",
       "      <td>veil-color</td>\n",
       "      <td>0.000000</td>\n",
       "    </tr>\n",
       "    <tr>\n",
       "      <th>18</th>\n",
       "      <td>ring-type</td>\n",
       "      <td>0.000000</td>\n",
       "    </tr>\n",
       "    <tr>\n",
       "      <th>0</th>\n",
       "      <td>cap-shape</td>\n",
       "      <td>0.000000</td>\n",
       "    </tr>\n",
       "    <tr>\n",
       "      <th>15</th>\n",
       "      <td>veil-type</td>\n",
       "      <td>0.000000</td>\n",
       "    </tr>\n",
       "    <tr>\n",
       "      <th>14</th>\n",
       "      <td>stalk-color-below-ring</td>\n",
       "      <td>0.000000</td>\n",
       "    </tr>\n",
       "    <tr>\n",
       "      <th>1</th>\n",
       "      <td>cap-surface</td>\n",
       "      <td>0.000000</td>\n",
       "    </tr>\n",
       "    <tr>\n",
       "      <th>6</th>\n",
       "      <td>gill-spacing</td>\n",
       "      <td>0.000000</td>\n",
       "    </tr>\n",
       "    <tr>\n",
       "      <th>5</th>\n",
       "      <td>gill-attachment</td>\n",
       "      <td>0.000000</td>\n",
       "    </tr>\n",
       "    <tr>\n",
       "      <th>11</th>\n",
       "      <td>stalk-surface-above-ring</td>\n",
       "      <td>0.000000</td>\n",
       "    </tr>\n",
       "  </tbody>\n",
       "</table>\n",
       "</div>"
      ],
      "text/plain": [
       "                    Features  Importance\n",
       "8                 gill-color    0.347765\n",
       "19         spore-print-color    0.198923\n",
       "20                population    0.185939\n",
       "7                  gill-size    0.118393\n",
       "4                       odor    0.035387\n",
       "3                    bruises    0.027519\n",
       "9                stalk-shape    0.025660\n",
       "21                   habitat    0.025498\n",
       "13    stalk-color-above-ring    0.015403\n",
       "10                stalk-root    0.013345\n",
       "2                  cap-color    0.003956\n",
       "17               ring-number    0.001399\n",
       "12  stalk-surface-below-ring    0.000811\n",
       "16                veil-color    0.000000\n",
       "18                 ring-type    0.000000\n",
       "0                  cap-shape    0.000000\n",
       "15                 veil-type    0.000000\n",
       "14    stalk-color-below-ring    0.000000\n",
       "1                cap-surface    0.000000\n",
       "6               gill-spacing    0.000000\n",
       "5            gill-attachment    0.000000\n",
       "11  stalk-surface-above-ring    0.000000"
      ]
     },
     "execution_count": 81,
     "metadata": {},
     "output_type": "execute_result"
    }
   ],
   "source": [
    "feature_imp.sort_values('Importance',ascending=False)"
   ]
  },
  {
   "cell_type": "code",
   "execution_count": 102,
   "id": "16f634db",
   "metadata": {},
   "outputs": [],
   "source": [
    "accuracies = {}"
   ]
  },
  {
   "cell_type": "code",
   "execution_count": 82,
   "id": "fef6fa26",
   "metadata": {},
   "outputs": [],
   "source": [
    "# the top features are most important features for the model to train the model.\n",
    "# out of 23 only 13 features are important for creating a model "
   ]
  },
  {
   "cell_type": "markdown",
   "id": "502a1827",
   "metadata": {},
   "source": [
    "# Build the Decision Tree Model with Entropy "
   ]
  },
  {
   "cell_type": "code",
   "execution_count": 191,
   "id": "40b667f2",
   "metadata": {},
   "outputs": [],
   "source": [
    "from sklearn.tree import DecisionTreeClassifier\n",
    "\n",
    "dt_ms=DecisionTreeClassifier(criterion= \"entropy\",max_depth= 5)\n"
   ]
  },
  {
   "cell_type": "code",
   "execution_count": 192,
   "id": "a4072a8e",
   "metadata": {},
   "outputs": [
    {
     "data": {
      "text/plain": [
       "DecisionTreeClassifier(criterion='entropy', max_depth=5)"
      ]
     },
     "execution_count": 192,
     "metadata": {},
     "output_type": "execute_result"
    }
   ],
   "source": [
    "dt_ms.fit(ms_train_x, ms_train_y)"
   ]
  },
  {
   "cell_type": "code",
   "execution_count": 193,
   "id": "a0a174b7",
   "metadata": {},
   "outputs": [],
   "source": [
    "pred_ms= dt_ms.predict(ms_test_x)"
   ]
  },
  {
   "cell_type": "code",
   "execution_count": 194,
   "id": "47c934dc",
   "metadata": {},
   "outputs": [],
   "source": [
    "\n",
    "from sklearn.metrics import confusion_matrix"
   ]
  },
  {
   "cell_type": "code",
   "execution_count": 195,
   "id": "e2871d6a",
   "metadata": {},
   "outputs": [
    {
     "data": {
      "text/plain": [
       "array([[742,   0],\n",
       "       [ 47, 836]], dtype=int64)"
      ]
     },
     "execution_count": 195,
     "metadata": {},
     "output_type": "execute_result"
    }
   ],
   "source": [
    "tab_ms=confusion_matrix(ms_test_y,pred_ms)\n",
    "tab_ms\n"
   ]
  },
  {
   "cell_type": "code",
   "execution_count": 196,
   "id": "c3a7376e",
   "metadata": {},
   "outputs": [
    {
     "data": {
      "text/plain": [
       "0.9710769230769231"
      ]
     },
     "execution_count": 196,
     "metadata": {},
     "output_type": "execute_result"
    }
   ],
   "source": [
    "acc = accuracy_score(ms_test_y, pred_ms)\n",
    "\n",
    "accuracies['Decision Tree with Entropy'] = acc\n",
    "acc"
   ]
  },
  {
   "cell_type": "code",
   "execution_count": 197,
   "id": "a49f5e5b",
   "metadata": {},
   "outputs": [],
   "source": [
    "from six import StringIO\n",
    "from IPython.display import Image \n",
    "from sklearn.tree import export_graphviz\n",
    "import pydotplus\n",
    "import pydot"
   ]
  },
  {
   "cell_type": "code",
   "execution_count": 198,
   "id": "601d754e",
   "metadata": {},
   "outputs": [],
   "source": [
    "dot_data = StringIO()"
   ]
  },
  {
   "cell_type": "code",
   "execution_count": 199,
   "id": "8894c7f1",
   "metadata": {},
   "outputs": [
    {
     "data": {
      "image/png": "[encoded data removed]",
      "text/plain": [
       "<IPython.core.display.Image object>"
      ]
     },
     "execution_count": 199,
     "metadata": {},
     "output_type": "execute_result"
    }
   ],
   "source": [
    "export_graphviz(dt_ms, out_file=dot_data,  \n",
    "                filled=True, rounded=True,\n",
    "                special_characters=True , feature_names=ms_train_x.columns  )\n",
    "graph = pydotplus.graph_from_dot_data(dot_data.getvalue())  \n",
    "\n",
    "(graph,) = pydot.graph_from_dot_data(dot_data.getvalue())\n",
    "Image(graph.create_png())"
   ]
  },
  {
   "cell_type": "markdown",
   "id": "c2901681",
   "metadata": {},
   "source": [
    "# Build the Decision Tree Model with Gini"
   ]
  },
  {
   "cell_type": "code",
   "execution_count": 143,
   "id": "16cd23e6",
   "metadata": {},
   "outputs": [],
   "source": [
    "from sklearn.tree import DecisionTreeClassifier\n",
    "\n",
    "dt_ms=DecisionTreeClassifier(max_depth=5)\n",
    "    # give the tree details \n",
    "                                                # use entropy of gini \n",
    "                                                # use tab -shipt\n"
   ]
  },
  {
   "cell_type": "code",
   "execution_count": 144,
   "id": "0e0a3dc9",
   "metadata": {},
   "outputs": [
    {
     "data": {
      "text/plain": [
       "DecisionTreeClassifier(max_depth=5)"
      ]
     },
     "execution_count": 144,
     "metadata": {},
     "output_type": "execute_result"
    }
   ],
   "source": [
    "dt_ms.fit(ms_train_x, ms_train_y)"
   ]
  },
  {
   "cell_type": "code",
   "execution_count": 145,
   "id": "da2e705d",
   "metadata": {},
   "outputs": [],
   "source": [
    "pred_ms= dt_ms.predict(ms_test_x)"
   ]
  },
  {
   "cell_type": "code",
   "execution_count": 146,
   "id": "1081705d",
   "metadata": {},
   "outputs": [],
   "source": [
    "from sklearn.metrics import confusion_matrix"
   ]
  },
  {
   "cell_type": "code",
   "execution_count": 147,
   "id": "0798ff4f",
   "metadata": {},
   "outputs": [
    {
     "data": {
      "text/plain": [
       "array([[732,  10],\n",
       "       [ 31, 852]], dtype=int64)"
      ]
     },
     "execution_count": 147,
     "metadata": {},
     "output_type": "execute_result"
    }
   ],
   "source": [
    "\n",
    "tab_ms=confusion_matrix(ms_test_y,pred_ms)\n",
    "tab_ms"
   ]
  },
  {
   "cell_type": "code",
   "execution_count": 148,
   "id": "34464155",
   "metadata": {},
   "outputs": [
    {
     "data": {
      "text/plain": [
       "0.9747692307692307"
      ]
     },
     "execution_count": 148,
     "metadata": {},
     "output_type": "execute_result"
    }
   ],
   "source": [
    "acc = accuracy_score(ms_test_y, pred_ms)\n",
    "accuracies['Decision Tree with Gini'] = acc\n",
    "acc"
   ]
  },
  {
   "cell_type": "code",
   "execution_count": 165,
   "id": "67f3bfdc",
   "metadata": {},
   "outputs": [],
   "source": [
    "dot_data = StringIO()"
   ]
  },
  {
   "cell_type": "code",
   "execution_count": 166,
   "id": "889cf9cb",
   "metadata": {},
   "outputs": [
    {
     "data": {
      "image/png": "[encoded data removed]",
      "text/plain": [
       "<IPython.core.display.Image object>"
      ]
     },
     "execution_count": 166,
     "metadata": {},
     "output_type": "execute_result"
    }
   ],
   "source": [
    "export_graphviz(dt_ms, out_file=dot_data,  \n",
    "                filled=True, rounded=True,\n",
    "                special_characters=True , feature_names=ms_train_x.columns  )\n",
    "graph = pydotplus.graph_from_dot_data(dot_data.getvalue())  \n",
    "\n",
    "(graph,) = pydot.graph_from_dot_data(dot_data.getvalue())\n",
    "Image(graph.create_png())"
   ]
  },
  {
   "cell_type": "markdown",
   "id": "4db76b38",
   "metadata": {},
   "source": [
    "# Observation :-\n",
    "1. In Decision tree classifier with entropy tree structure the model accuracy\n",
    "   is around 0.9733 means 97% .\n",
    "   And \n",
    "2. In Decision tree classifier with Gini tree structure the model accuracy        is around 0.9766 means 97% . \n",
    "* Overall there is a minnor diffrence between these two model .\n",
    "    \n"
   ]
  },
  {
   "cell_type": "markdown",
   "id": "89f71962",
   "metadata": {},
   "source": [
    " #  Lets Build the Logistic Regression classifier Model "
   ]
  },
  {
   "cell_type": "code",
   "execution_count": 149,
   "id": "a5e9d4cc",
   "metadata": {},
   "outputs": [],
   "source": [
    "from sklearn.linear_model import LogisticRegression"
   ]
  },
  {
   "cell_type": "code",
   "execution_count": 150,
   "id": "52998bb8",
   "metadata": {},
   "outputs": [],
   "source": [
    "log_ms=LogisticRegression()"
   ]
  },
  {
   "cell_type": "code",
   "execution_count": 151,
   "id": "4f9c58ea",
   "metadata": {},
   "outputs": [
    {
     "name": "stderr",
     "output_type": "stream",
     "text": [
      "C:\\Users\\karti\\anaconda3\\lib\\site-packages\\sklearn\\linear_model\\_logistic.py:814: ConvergenceWarning: lbfgs failed to converge (status=1):\n",
      "STOP: TOTAL NO. of ITERATIONS REACHED LIMIT.\n",
      "\n",
      "Increase the number of iterations (max_iter) or scale the data as shown in:\n",
      "    https://scikit-learn.org/stable/modules/preprocessing.html\n",
      "Please also refer to the documentation for alternative solver options:\n",
      "    https://scikit-learn.org/stable/modules/linear_model.html#logistic-regression\n",
      "  n_iter_i = _check_optimize_result(\n"
     ]
    },
    {
     "data": {
      "text/plain": [
       "LogisticRegression()"
      ]
     },
     "execution_count": 151,
     "metadata": {},
     "output_type": "execute_result"
    }
   ],
   "source": [
    "log_ms.fit(ms_train_x,ms_train_y)"
   ]
  },
  {
   "cell_type": "code",
   "execution_count": 152,
   "id": "f779fdce",
   "metadata": {},
   "outputs": [],
   "source": [
    "pred = log_ms.predict(ms_test_x)"
   ]
  },
  {
   "cell_type": "code",
   "execution_count": 153,
   "id": "bb3c7580",
   "metadata": {},
   "outputs": [
    {
     "data": {
      "text/html": [
       "<div>\n",
       "<style scoped>\n",
       "    .dataframe tbody tr th:only-of-type {\n",
       "        vertical-align: middle;\n",
       "    }\n",
       "\n",
       "    .dataframe tbody tr th {\n",
       "        vertical-align: top;\n",
       "    }\n",
       "\n",
       "    .dataframe thead th {\n",
       "        text-align: right;\n",
       "    }\n",
       "</style>\n",
       "<table border=\"1\" class=\"dataframe\">\n",
       "  <thead>\n",
       "    <tr style=\"text-align: right;\">\n",
       "      <th>col_0</th>\n",
       "      <th>0</th>\n",
       "      <th>1</th>\n",
       "    </tr>\n",
       "    <tr>\n",
       "      <th>class</th>\n",
       "      <th></th>\n",
       "      <th></th>\n",
       "    </tr>\n",
       "  </thead>\n",
       "  <tbody>\n",
       "    <tr>\n",
       "      <th>0</th>\n",
       "      <td>702</td>\n",
       "      <td>40</td>\n",
       "    </tr>\n",
       "    <tr>\n",
       "      <th>1</th>\n",
       "      <td>46</td>\n",
       "      <td>837</td>\n",
       "    </tr>\n",
       "  </tbody>\n",
       "</table>\n",
       "</div>"
      ],
      "text/plain": [
       "col_0    0    1\n",
       "class          \n",
       "0      702   40\n",
       "1       46  837"
      ]
     },
     "execution_count": 153,
     "metadata": {},
     "output_type": "execute_result"
    }
   ],
   "source": [
    "pd.crosstab(ms_test_y,pred)"
   ]
  },
  {
   "cell_type": "code",
   "execution_count": 154,
   "id": "b6eb1c4f",
   "metadata": {},
   "outputs": [],
   "source": [
    "from sklearn.metrics import confusion_matrix"
   ]
  },
  {
   "cell_type": "code",
   "execution_count": 155,
   "id": "3703236a",
   "metadata": {},
   "outputs": [
    {
     "data": {
      "text/plain": [
       "array([[702,  40],\n",
       "       [ 46, 837]], dtype=int64)"
      ]
     },
     "execution_count": 155,
     "metadata": {},
     "output_type": "execute_result"
    }
   ],
   "source": [
    "tab_ms =confusion_matrix(ms_test_y,pred)\n",
    "tab_ms"
   ]
  },
  {
   "cell_type": "code",
   "execution_count": 156,
   "id": "d58348d9",
   "metadata": {},
   "outputs": [],
   "source": [
    "from sklearn.metrics import accuracy_score"
   ]
  },
  {
   "cell_type": "code",
   "execution_count": 157,
   "id": "68201f9e",
   "metadata": {},
   "outputs": [
    {
     "data": {
      "text/plain": [
       "0.947076923076923"
      ]
     },
     "execution_count": 157,
     "metadata": {},
     "output_type": "execute_result"
    }
   ],
   "source": [
    "acc= accuracy_score(ms_test_y,pred)\n",
    "accuracies['Logistic Regression'] = acc\n",
    "acc"
   ]
  },
  {
   "cell_type": "code",
   "execution_count": 54,
   "id": "525e871d",
   "metadata": {},
   "outputs": [],
   "source": [
    "from sklearn.metrics import precision_score"
   ]
  },
  {
   "cell_type": "code",
   "execution_count": 55,
   "id": "b404d794",
   "metadata": {},
   "outputs": [
    {
     "data": {
      "text/plain": [
       "0.9543899657924744"
      ]
     },
     "execution_count": 55,
     "metadata": {},
     "output_type": "execute_result"
    }
   ],
   "source": [
    "precision_score(ms_test_y,pred)"
   ]
  },
  {
   "cell_type": "code",
   "execution_count": 56,
   "id": "65b1bec4",
   "metadata": {},
   "outputs": [],
   "source": [
    "from sklearn.metrics import recall_score"
   ]
  },
  {
   "cell_type": "code",
   "execution_count": 57,
   "id": "e6a2e713",
   "metadata": {},
   "outputs": [
    {
     "data": {
      "text/plain": [
       "0.9479048697621744"
      ]
     },
     "execution_count": 57,
     "metadata": {},
     "output_type": "execute_result"
    }
   ],
   "source": [
    "recall_score(ms_test_y,pred)"
   ]
  },
  {
   "cell_type": "code",
   "execution_count": 58,
   "id": "08e166be",
   "metadata": {},
   "outputs": [],
   "source": [
    "from sklearn.metrics import f1_score"
   ]
  },
  {
   "cell_type": "code",
   "execution_count": 59,
   "id": "d5b2f7b5",
   "metadata": {},
   "outputs": [
    {
     "data": {
      "text/plain": [
       "0.9511363636363637"
      ]
     },
     "execution_count": 59,
     "metadata": {},
     "output_type": "execute_result"
    }
   ],
   "source": [
    "f1_score(ms_test_y,pred)"
   ]
  },
  {
   "cell_type": "code",
   "execution_count": 60,
   "id": "bb5cf93f",
   "metadata": {},
   "outputs": [],
   "source": [
    "from sklearn.metrics import roc_auc_score\n",
    "from sklearn.metrics import roc_curve"
   ]
  },
  {
   "cell_type": "code",
   "execution_count": 61,
   "id": "4ffd94c8",
   "metadata": {},
   "outputs": [
    {
     "data": {
      "text/plain": [
       "0.946998256983513"
      ]
     },
     "execution_count": 61,
     "metadata": {},
     "output_type": "execute_result"
    }
   ],
   "source": [
    "roc_auc_score(ms_test_y,pred)"
   ]
  },
  {
   "cell_type": "code",
   "execution_count": 62,
   "id": "ac720442",
   "metadata": {},
   "outputs": [],
   "source": [
    "pred_prob = log_ms.predict_proba(ms_test_x)"
   ]
  },
  {
   "cell_type": "code",
   "execution_count": 63,
   "id": "f8fc0240",
   "metadata": {},
   "outputs": [
    {
     "data": {
      "text/plain": [
       "array([[1.31776664e-02, 9.86822334e-01],\n",
       "       [9.99941671e-01, 5.83291236e-05],\n",
       "       [1.90880623e-02, 9.80911938e-01],\n",
       "       ...,\n",
       "       [3.54177004e-02, 9.64582300e-01],\n",
       "       [4.65418954e-03, 9.95345810e-01],\n",
       "       [5.05390385e-03, 9.94946096e-01]])"
      ]
     },
     "execution_count": 63,
     "metadata": {},
     "output_type": "execute_result"
    }
   ],
   "source": [
    "pred_prob"
   ]
  },
  {
   "cell_type": "code",
   "execution_count": 64,
   "id": "5bbf52e4",
   "metadata": {},
   "outputs": [],
   "source": [
    "fpr,tpr,thres=roc_curve(ms_test_y,pred_prob[:,-1])"
   ]
  },
  {
   "cell_type": "code",
   "execution_count": 65,
   "id": "84ecf8b7",
   "metadata": {},
   "outputs": [],
   "source": [
    "import matplotlib.pyplot as plt"
   ]
  },
  {
   "cell_type": "code",
   "execution_count": 66,
   "id": "f29321b2",
   "metadata": {},
   "outputs": [
    {
     "data": {
      "text/plain": [
       "Text(0.5, 0.5, 'Auroc is 0.94777')"
      ]
     },
     "execution_count": 66,
     "metadata": {},
     "output_type": "execute_result"
    },
    {
     "data": {
      "image/png": "[encoded data removed]",
      "text/plain": [
       "<Figure size 432x288 with 1 Axes>"
      ]
     },
     "metadata": {
      "needs_background": "light"
     },
     "output_type": "display_data"
    }
   ],
   "source": [
    "plt.plot(fpr,tpr,color ='g')\n",
    "plt.xlabel(\"Fpr\")\n",
    "plt.ylabel(\"Tpr\")\n",
    "plt.title(\"Auroc on mashroom data \")\n",
    "plt.grid(color = 'r')\n",
    "plt.text(x= .5 , y =.5 ,s= \"Auroc is 0.94777\")\n"
   ]
  },
  {
   "cell_type": "markdown",
   "id": "2d2fd30e",
   "metadata": {},
   "source": [
    "# Observation :\n",
    " Test accuracy of Logistic regression is 94% ."
   ]
  },
  {
   "cell_type": "markdown",
   "id": "9ba30f7a",
   "metadata": {},
   "source": [
    "# Lets build the Randam forest Classifer with Gini tree structure"
   ]
  },
  {
   "cell_type": "code",
   "execution_count": 158,
   "id": "94504745",
   "metadata": {},
   "outputs": [],
   "source": [
    "from sklearn.ensemble import RandomForestClassifier"
   ]
  },
  {
   "cell_type": "code",
   "execution_count": 159,
   "id": "ada8d3be",
   "metadata": {},
   "outputs": [],
   "source": [
    "rf_ms= RandomForestClassifier(n_estimators=100)"
   ]
  },
  {
   "cell_type": "code",
   "execution_count": 160,
   "id": "c76f66f3",
   "metadata": {},
   "outputs": [
    {
     "data": {
      "text/plain": [
       "RandomForestClassifier()"
      ]
     },
     "execution_count": 160,
     "metadata": {},
     "output_type": "execute_result"
    }
   ],
   "source": [
    "rf_ms.fit(ms_train_x, ms_train_y)"
   ]
  },
  {
   "cell_type": "code",
   "execution_count": 161,
   "id": "90096b85",
   "metadata": {},
   "outputs": [],
   "source": [
    "pred_ms = rf_ms.predict(ms_test_x)"
   ]
  },
  {
   "cell_type": "code",
   "execution_count": 162,
   "id": "99176e20",
   "metadata": {},
   "outputs": [
    {
     "data": {
      "text/plain": [
       "array([1, 0, 1, ..., 1, 1, 1], dtype=int64)"
      ]
     },
     "execution_count": 162,
     "metadata": {},
     "output_type": "execute_result"
    }
   ],
   "source": [
    "pred_ms"
   ]
  },
  {
   "cell_type": "code",
   "execution_count": 163,
   "id": "4d83a739",
   "metadata": {},
   "outputs": [],
   "source": [
    "from sklearn.metrics import confusion_matrix"
   ]
  },
  {
   "cell_type": "code",
   "execution_count": 164,
   "id": "ac580501",
   "metadata": {},
   "outputs": [
    {
     "data": {
      "text/plain": [
       "array([[742,   0],\n",
       "       [  0, 883]], dtype=int64)"
      ]
     },
     "execution_count": 164,
     "metadata": {},
     "output_type": "execute_result"
    }
   ],
   "source": [
    "tab_ms = confusion_matrix(ms_test_y,pred_ms)\n",
    "tab_ms"
   ]
  },
  {
   "cell_type": "code",
   "execution_count": 165,
   "id": "9e2e74bb",
   "metadata": {},
   "outputs": [],
   "source": [
    "from sklearn.metrics import accuracy_score\n",
    "from sklearn.metrics import recall_score\n",
    "from sklearn.metrics import f1_score\n",
    "from sklearn.metrics import precision_score"
   ]
  },
  {
   "cell_type": "code",
   "execution_count": 166,
   "id": "2d0117f7",
   "metadata": {},
   "outputs": [
    {
     "data": {
      "text/plain": [
       "1.0"
      ]
     },
     "execution_count": 166,
     "metadata": {},
     "output_type": "execute_result"
    }
   ],
   "source": [
    "acc = accuracy_score(ms_test_y, pred_ms)\n",
    "accuracies['Random Forest with Gini'] = acc\n",
    "acc"
   ]
  },
  {
   "cell_type": "code",
   "execution_count": null,
   "id": "6f5a7456",
   "metadata": {},
   "outputs": [],
   "source": [
    "recall_score(ms_test_y,pred_ms)"
   ]
  },
  {
   "cell_type": "code",
   "execution_count": null,
   "id": "567ae613",
   "metadata": {},
   "outputs": [],
   "source": [
    "precision_score(ms_test_y, pred_ms)"
   ]
  },
  {
   "cell_type": "code",
   "execution_count": null,
   "id": "0fc3047b",
   "metadata": {},
   "outputs": [],
   "source": [
    "f1_score(ms_test_y, pred_ms)"
   ]
  },
  {
   "cell_type": "code",
   "execution_count": 106,
   "id": "bf92873a",
   "metadata": {},
   "outputs": [
    {
     "data": {
      "text/plain": [
       "array([0.00568099, 0.00961683, 0.01070404, 0.04842969, 0.17007574,\n",
       "       0.00271093, 0.04406602, 0.10300561, 0.13031242, 0.02215884,\n",
       "       0.05647743, 0.05094156, 0.04192077, 0.01479812, 0.01483105,\n",
       "       0.        , 0.00243922, 0.01223217, 0.05412503, 0.10455145,\n",
       "       0.07103955, 0.02988253])"
      ]
     },
     "execution_count": 106,
     "metadata": {},
     "output_type": "execute_result"
    }
   ],
   "source": [
    "rf_ms.feature_importances_"
   ]
  },
  {
   "cell_type": "code",
   "execution_count": 107,
   "id": "373b72fa",
   "metadata": {},
   "outputs": [],
   "source": [
    "fi_db = pd.DataFrame({'feature':ms_train_x.columns,\"importances\": rf_ms.feature_importances_})"
   ]
  },
  {
   "cell_type": "code",
   "execution_count": 108,
   "id": "7b6ca725",
   "metadata": {},
   "outputs": [
    {
     "data": {
      "text/html": [
       "<div>\n",
       "<style scoped>\n",
       "    .dataframe tbody tr th:only-of-type {\n",
       "        vertical-align: middle;\n",
       "    }\n",
       "\n",
       "    .dataframe tbody tr th {\n",
       "        vertical-align: top;\n",
       "    }\n",
       "\n",
       "    .dataframe thead th {\n",
       "        text-align: right;\n",
       "    }\n",
       "</style>\n",
       "<table border=\"1\" class=\"dataframe\">\n",
       "  <thead>\n",
       "    <tr style=\"text-align: right;\">\n",
       "      <th></th>\n",
       "      <th>feature</th>\n",
       "      <th>importances</th>\n",
       "    </tr>\n",
       "  </thead>\n",
       "  <tbody>\n",
       "    <tr>\n",
       "      <th>4</th>\n",
       "      <td>odor</td>\n",
       "      <td>0.170076</td>\n",
       "    </tr>\n",
       "    <tr>\n",
       "      <th>8</th>\n",
       "      <td>gill-color</td>\n",
       "      <td>0.130312</td>\n",
       "    </tr>\n",
       "    <tr>\n",
       "      <th>19</th>\n",
       "      <td>spore-print-color</td>\n",
       "      <td>0.104551</td>\n",
       "    </tr>\n",
       "    <tr>\n",
       "      <th>7</th>\n",
       "      <td>gill-size</td>\n",
       "      <td>0.103006</td>\n",
       "    </tr>\n",
       "    <tr>\n",
       "      <th>20</th>\n",
       "      <td>population</td>\n",
       "      <td>0.071040</td>\n",
       "    </tr>\n",
       "    <tr>\n",
       "      <th>10</th>\n",
       "      <td>stalk-root</td>\n",
       "      <td>0.056477</td>\n",
       "    </tr>\n",
       "    <tr>\n",
       "      <th>18</th>\n",
       "      <td>ring-type</td>\n",
       "      <td>0.054125</td>\n",
       "    </tr>\n",
       "    <tr>\n",
       "      <th>11</th>\n",
       "      <td>stalk-surface-above-ring</td>\n",
       "      <td>0.050942</td>\n",
       "    </tr>\n",
       "    <tr>\n",
       "      <th>3</th>\n",
       "      <td>bruises</td>\n",
       "      <td>0.048430</td>\n",
       "    </tr>\n",
       "    <tr>\n",
       "      <th>6</th>\n",
       "      <td>gill-spacing</td>\n",
       "      <td>0.044066</td>\n",
       "    </tr>\n",
       "    <tr>\n",
       "      <th>12</th>\n",
       "      <td>stalk-surface-below-ring</td>\n",
       "      <td>0.041921</td>\n",
       "    </tr>\n",
       "    <tr>\n",
       "      <th>21</th>\n",
       "      <td>habitat</td>\n",
       "      <td>0.029883</td>\n",
       "    </tr>\n",
       "    <tr>\n",
       "      <th>9</th>\n",
       "      <td>stalk-shape</td>\n",
       "      <td>0.022159</td>\n",
       "    </tr>\n",
       "    <tr>\n",
       "      <th>14</th>\n",
       "      <td>stalk-color-below-ring</td>\n",
       "      <td>0.014831</td>\n",
       "    </tr>\n",
       "    <tr>\n",
       "      <th>13</th>\n",
       "      <td>stalk-color-above-ring</td>\n",
       "      <td>0.014798</td>\n",
       "    </tr>\n",
       "    <tr>\n",
       "      <th>17</th>\n",
       "      <td>ring-number</td>\n",
       "      <td>0.012232</td>\n",
       "    </tr>\n",
       "    <tr>\n",
       "      <th>2</th>\n",
       "      <td>cap-color</td>\n",
       "      <td>0.010704</td>\n",
       "    </tr>\n",
       "    <tr>\n",
       "      <th>1</th>\n",
       "      <td>cap-surface</td>\n",
       "      <td>0.009617</td>\n",
       "    </tr>\n",
       "    <tr>\n",
       "      <th>0</th>\n",
       "      <td>cap-shape</td>\n",
       "      <td>0.005681</td>\n",
       "    </tr>\n",
       "    <tr>\n",
       "      <th>5</th>\n",
       "      <td>gill-attachment</td>\n",
       "      <td>0.002711</td>\n",
       "    </tr>\n",
       "    <tr>\n",
       "      <th>16</th>\n",
       "      <td>veil-color</td>\n",
       "      <td>0.002439</td>\n",
       "    </tr>\n",
       "    <tr>\n",
       "      <th>15</th>\n",
       "      <td>veil-type</td>\n",
       "      <td>0.000000</td>\n",
       "    </tr>\n",
       "  </tbody>\n",
       "</table>\n",
       "</div>"
      ],
      "text/plain": [
       "                     feature  importances\n",
       "4                       odor     0.170076\n",
       "8                 gill-color     0.130312\n",
       "19         spore-print-color     0.104551\n",
       "7                  gill-size     0.103006\n",
       "20                population     0.071040\n",
       "10                stalk-root     0.056477\n",
       "18                 ring-type     0.054125\n",
       "11  stalk-surface-above-ring     0.050942\n",
       "3                    bruises     0.048430\n",
       "6               gill-spacing     0.044066\n",
       "12  stalk-surface-below-ring     0.041921\n",
       "21                   habitat     0.029883\n",
       "9                stalk-shape     0.022159\n",
       "14    stalk-color-below-ring     0.014831\n",
       "13    stalk-color-above-ring     0.014798\n",
       "17               ring-number     0.012232\n",
       "2                  cap-color     0.010704\n",
       "1                cap-surface     0.009617\n",
       "0                  cap-shape     0.005681\n",
       "5            gill-attachment     0.002711\n",
       "16                veil-color     0.002439\n",
       "15                 veil-type     0.000000"
      ]
     },
     "execution_count": 108,
     "metadata": {},
     "output_type": "execute_result"
    }
   ],
   "source": [
    "fi_db.sort_values(\"importances\",ascending=False)"
   ]
  },
  {
   "cell_type": "markdown",
   "id": "c65498e5",
   "metadata": {},
   "source": [
    "# Random forest model with Entropy tree structure"
   ]
  },
  {
   "cell_type": "code",
   "execution_count": 167,
   "id": "b4e2ef46",
   "metadata": {},
   "outputs": [],
   "source": [
    "rf_ms= RandomForestClassifier(n_estimators=120,criterion=\"entropy\")"
   ]
  },
  {
   "cell_type": "code",
   "execution_count": 168,
   "id": "8955a102",
   "metadata": {},
   "outputs": [
    {
     "data": {
      "text/plain": [
       "RandomForestClassifier(criterion='entropy', n_estimators=120)"
      ]
     },
     "execution_count": 168,
     "metadata": {},
     "output_type": "execute_result"
    }
   ],
   "source": [
    "rf_ms.fit(ms_train_x, ms_train_y)"
   ]
  },
  {
   "cell_type": "code",
   "execution_count": 169,
   "id": "6836081b",
   "metadata": {},
   "outputs": [
    {
     "data": {
      "text/plain": [
       "RandomForestClassifier(criterion='entropy', n_estimators=120)"
      ]
     },
     "execution_count": 169,
     "metadata": {},
     "output_type": "execute_result"
    }
   ],
   "source": [
    "rf_ms.fit(ms_train_x, ms_train_y)"
   ]
  },
  {
   "cell_type": "code",
   "execution_count": 170,
   "id": "9b9290cc",
   "metadata": {},
   "outputs": [],
   "source": [
    "pred_ms= rf_ms.predict(ms_test_x)"
   ]
  },
  {
   "cell_type": "code",
   "execution_count": 171,
   "id": "645f911c",
   "metadata": {},
   "outputs": [
    {
     "data": {
      "text/plain": [
       "array([1, 0, 1, ..., 1, 1, 1], dtype=int64)"
      ]
     },
     "execution_count": 171,
     "metadata": {},
     "output_type": "execute_result"
    }
   ],
   "source": [
    "pred_ms"
   ]
  },
  {
   "cell_type": "code",
   "execution_count": 174,
   "id": "abc4389f",
   "metadata": {},
   "outputs": [
    {
     "data": {
      "text/plain": [
       "1.0"
      ]
     },
     "execution_count": 174,
     "metadata": {},
     "output_type": "execute_result"
    }
   ],
   "source": [
    "acc =accuracy_score(ms_test_y, pred_ms)\n",
    "accuracies['Decision Tree with Entropy'] = acc\n",
    "acc"
   ]
  },
  {
   "cell_type": "markdown",
   "id": "9b57f4c4",
   "metadata": {},
   "source": [
    "# Observation :-\n",
    "1. In Random forest classifier with Gini tree structure the model accuracy\n",
    "   is around 0.9753 means 97% .\n",
    "   And \n",
    "2. In Decision tree classifier with Gini tree structure the model accuracy is 100%        is around 0.9766 means 97% . \n",
    "* Overall the Entropy  tree struture classification tree model is best ."
   ]
  },
  {
   "cell_type": "markdown",
   "id": "c0648382",
   "metadata": {},
   "source": [
    "# Lets build a  K Nearest Neighbor classifier model \n"
   ]
  },
  {
   "cell_type": "code",
   "execution_count": 175,
   "id": "baeaf6fe",
   "metadata": {},
   "outputs": [],
   "source": [
    "from sklearn.neighbors import KNeighborsClassifier"
   ]
  },
  {
   "cell_type": "code",
   "execution_count": 176,
   "id": "7af0cba1",
   "metadata": {},
   "outputs": [],
   "source": [
    "knn_ms = KNeighborsClassifier(n_neighbors=100)   # its depend on neibours of the matrix is change on that "
   ]
  },
  {
   "cell_type": "code",
   "execution_count": 177,
   "id": "c937e20c",
   "metadata": {},
   "outputs": [
    {
     "data": {
      "text/plain": [
       "KNeighborsClassifier(n_neighbors=100)"
      ]
     },
     "execution_count": 177,
     "metadata": {},
     "output_type": "execute_result"
    }
   ],
   "source": [
    "knn_ms.fit(ms_train_x, ms_train_y)"
   ]
  },
  {
   "cell_type": "code",
   "execution_count": 178,
   "id": "ef6914d4",
   "metadata": {},
   "outputs": [],
   "source": [
    "pred_ms = knn_ms.predict(ms_test_x)"
   ]
  },
  {
   "cell_type": "code",
   "execution_count": 179,
   "id": "8eebfe1a",
   "metadata": {},
   "outputs": [
    {
     "data": {
      "text/plain": [
       "array([1, 0, 1, ..., 1, 1, 1], dtype=int64)"
      ]
     },
     "execution_count": 179,
     "metadata": {},
     "output_type": "execute_result"
    }
   ],
   "source": [
    "pred_ms"
   ]
  },
  {
   "cell_type": "code",
   "execution_count": 180,
   "id": "24e65cf5",
   "metadata": {},
   "outputs": [],
   "source": [
    "from sklearn.metrics import confusion_matrix"
   ]
  },
  {
   "cell_type": "code",
   "execution_count": 181,
   "id": "0b550a76",
   "metadata": {},
   "outputs": [],
   "source": [
    "tab= confusion_matrix(ms_test_y,pred_ms)"
   ]
  },
  {
   "cell_type": "code",
   "execution_count": 182,
   "id": "891eb9a6",
   "metadata": {},
   "outputs": [
    {
     "data": {
      "text/plain": [
       "array([[671,  71],\n",
       "       [  9, 874]], dtype=int64)"
      ]
     },
     "execution_count": 182,
     "metadata": {},
     "output_type": "execute_result"
    }
   ],
   "source": [
    "tab"
   ]
  },
  {
   "cell_type": "code",
   "execution_count": 183,
   "id": "8d5fc0d6",
   "metadata": {},
   "outputs": [],
   "source": [
    "from sklearn.metrics import accuracy_score\n",
    "from sklearn.metrics import recall_score\n",
    "from sklearn.metrics import f1_score\n",
    "from sklearn.metrics import precision_score\n"
   ]
  },
  {
   "cell_type": "code",
   "execution_count": 184,
   "id": "5f28b8b6",
   "metadata": {},
   "outputs": [
    {
     "data": {
      "text/plain": [
       "0.9507692307692308"
      ]
     },
     "execution_count": 184,
     "metadata": {},
     "output_type": "execute_result"
    }
   ],
   "source": [
    "acc =accuracy_score(ms_test_y,pred_ms)\n",
    "accuracies['KNN model '] = acc\n",
    "acc"
   ]
  },
  {
   "cell_type": "code",
   "execution_count": 124,
   "id": "db27c418",
   "metadata": {},
   "outputs": [
    {
     "data": {
      "text/plain": [
       "0.9860302677532014"
      ]
     },
     "execution_count": 124,
     "metadata": {},
     "output_type": "execute_result"
    }
   ],
   "source": [
    "recall_score(ms_test_y,pred_ms)"
   ]
  },
  {
   "cell_type": "code",
   "execution_count": 125,
   "id": "13adaca5",
   "metadata": {},
   "outputs": [
    {
     "data": {
      "text/plain": [
       "0.9576031656302996"
      ]
     },
     "execution_count": 125,
     "metadata": {},
     "output_type": "execute_result"
    }
   ],
   "source": [
    "f1_score(ms_test_y,pred_ms)"
   ]
  },
  {
   "cell_type": "code",
   "execution_count": 126,
   "id": "1ca13a04",
   "metadata": {},
   "outputs": [
    {
     "data": {
      "text/plain": [
       "0.9307692307692308"
      ]
     },
     "execution_count": 126,
     "metadata": {},
     "output_type": "execute_result"
    }
   ],
   "source": [
    "precision_score(ms_test_y,pred_ms)"
   ]
  },
  {
   "cell_type": "code",
   "execution_count": 127,
   "id": "675494fd",
   "metadata": {},
   "outputs": [],
   "source": [
    "acc=[]\n",
    "for i in range(1,200):\n",
    "    knn_ms = KNeighborsClassifier (n_neighbors=i )\n",
    "    knn_ms.fit(ms_train_x, ms_train_y)\n",
    "    pred_ms = knn_ms.predict(ms_test_x)\n",
    "    tab_ms=confusion_matrix(ms_test_y,pred_ms)\n",
    "    acc.append(tab_ms.diagonal().sum()*100/tab_ms.sum())\n"
   ]
  },
  {
   "cell_type": "code",
   "execution_count": 128,
   "id": "d0fa55c8",
   "metadata": {},
   "outputs": [
    {
     "data": {
      "text/plain": [
       "[99.93846153846154,\n",
       " 99.87692307692308,\n",
       " 99.93846153846154,\n",
       " 99.87692307692308,\n",
       " 99.87692307692308,\n",
       " 99.87692307692308,\n",
       " 99.93846153846154,\n",
       " 99.87692307692308,\n",
       " 99.87692307692308,\n",
       " 99.87692307692308,\n",
       " 99.6923076923077,\n",
       " 99.75384615384615,\n",
       " 99.56923076923077,\n",
       " 99.56923076923077,\n",
       " 99.56923076923077,\n",
       " 99.63076923076923,\n",
       " 99.63076923076923,\n",
       " 99.56923076923077,\n",
       " 99.56923076923077,\n",
       " 99.63076923076923,\n",
       " 99.56923076923077,\n",
       " 99.56923076923077,\n",
       " 99.38461538461539,\n",
       " 99.38461538461539,\n",
       " 99.32307692307693,\n",
       " 99.32307692307693,\n",
       " 99.26153846153846,\n",
       " 99.26153846153846,\n",
       " 99.01538461538462,\n",
       " 99.07692307692308,\n",
       " 99.01538461538462,\n",
       " 99.13846153846154,\n",
       " 99.01538461538462,\n",
       " 98.95384615384616,\n",
       " 98.8923076923077,\n",
       " 98.64615384615385,\n",
       " 98.64615384615385,\n",
       " 98.64615384615385,\n",
       " 98.58461538461539,\n",
       " 98.58461538461539,\n",
       " 98.52307692307693,\n",
       " 98.58461538461539,\n",
       " 98.4,\n",
       " 98.46153846153847,\n",
       " 98.4,\n",
       " 98.4,\n",
       " 98.27692307692308,\n",
       " 98.33846153846154,\n",
       " 98.27692307692308,\n",
       " 98.27692307692308,\n",
       " 98.27692307692308,\n",
       " 98.27692307692308,\n",
       " 97.66153846153846,\n",
       " 97.66153846153846,\n",
       " 97.53846153846153,\n",
       " 97.53846153846153,\n",
       " 97.47692307692307,\n",
       " 97.53846153846153,\n",
       " 97.41538461538461,\n",
       " 97.47692307692307,\n",
       " 97.35384615384615,\n",
       " 97.41538461538461,\n",
       " 97.35384615384615,\n",
       " 97.35384615384615,\n",
       " 96.98461538461538,\n",
       " 96.98461538461538,\n",
       " 96.49230769230769,\n",
       " 96.67692307692307,\n",
       " 96.43076923076923,\n",
       " 96.49230769230769,\n",
       " 96.12307692307692,\n",
       " 96.24615384615385,\n",
       " 96.12307692307692,\n",
       " 96.18461538461538,\n",
       " 96.0,\n",
       " 96.12307692307692,\n",
       " 95.75384615384615,\n",
       " 96.06153846153846,\n",
       " 95.75384615384615,\n",
       " 95.87692307692308,\n",
       " 95.87692307692308,\n",
       " 95.87692307692308,\n",
       " 95.81538461538462,\n",
       " 96.0,\n",
       " 95.81538461538462,\n",
       " 95.75384615384615,\n",
       " 95.63076923076923,\n",
       " 95.75384615384615,\n",
       " 95.56923076923077,\n",
       " 95.75384615384615,\n",
       " 95.63076923076923,\n",
       " 95.56923076923077,\n",
       " 95.50769230769231,\n",
       " 95.50769230769231,\n",
       " 95.50769230769231,\n",
       " 95.44615384615385,\n",
       " 95.44615384615385,\n",
       " 95.44615384615385,\n",
       " 95.38461538461539,\n",
       " 95.38461538461539,\n",
       " 95.38461538461539,\n",
       " 95.38461538461539,\n",
       " 95.38461538461539,\n",
       " 95.32307692307693,\n",
       " 95.26153846153846,\n",
       " 95.38461538461539,\n",
       " 95.13846153846154,\n",
       " 95.2,\n",
       " 95.01538461538462,\n",
       " 95.13846153846154,\n",
       " 95.07692307692308,\n",
       " 95.13846153846154,\n",
       " 95.01538461538462,\n",
       " 95.2,\n",
       " 95.13846153846154,\n",
       " 95.13846153846154,\n",
       " 95.01538461538462,\n",
       " 95.01538461538462,\n",
       " 94.95384615384616,\n",
       " 95.07692307692308,\n",
       " 94.95384615384616,\n",
       " 94.95384615384616,\n",
       " 94.83076923076923,\n",
       " 94.83076923076923,\n",
       " 94.70769230769231,\n",
       " 94.70769230769231,\n",
       " 94.64615384615385,\n",
       " 94.64615384615385,\n",
       " 94.64615384615385,\n",
       " 94.70769230769231,\n",
       " 94.64615384615385,\n",
       " 94.64615384615385,\n",
       " 94.58461538461539,\n",
       " 94.58461538461539,\n",
       " 94.46153846153847,\n",
       " 94.33846153846154,\n",
       " 94.0923076923077,\n",
       " 94.21538461538462,\n",
       " 94.03076923076924,\n",
       " 94.15384615384616,\n",
       " 94.15384615384616,\n",
       " 94.15384615384616,\n",
       " 93.96923076923076,\n",
       " 93.9076923076923,\n",
       " 93.72307692307692,\n",
       " 93.84615384615384,\n",
       " 93.84615384615384,\n",
       " 93.72307692307692,\n",
       " 93.66153846153846,\n",
       " 93.72307692307692,\n",
       " 93.66153846153846,\n",
       " 93.66153846153846,\n",
       " 93.66153846153846,\n",
       " 93.66153846153846,\n",
       " 93.6,\n",
       " 93.72307692307692,\n",
       " 93.66153846153846,\n",
       " 93.66153846153846,\n",
       " 93.66153846153846,\n",
       " 93.78461538461538,\n",
       " 93.78461538461538,\n",
       " 93.72307692307692,\n",
       " 93.72307692307692,\n",
       " 93.72307692307692,\n",
       " 93.47692307692307,\n",
       " 93.6,\n",
       " 93.47692307692307,\n",
       " 93.41538461538461,\n",
       " 93.41538461538461,\n",
       " 93.53846153846153,\n",
       " 93.41538461538461,\n",
       " 93.23076923076923,\n",
       " 93.16923076923077,\n",
       " 93.16923076923077,\n",
       " 93.04615384615384,\n",
       " 93.1076923076923,\n",
       " 93.04615384615384,\n",
       " 93.04615384615384,\n",
       " 93.1076923076923,\n",
       " 92.98461538461538,\n",
       " 92.98461538461538,\n",
       " 92.98461538461538,\n",
       " 92.98461538461538,\n",
       " 92.86153846153846,\n",
       " 92.92307692307692,\n",
       " 92.86153846153846,\n",
       " 92.86153846153846,\n",
       " 92.86153846153846,\n",
       " 92.92307692307692,\n",
       " 92.98461538461538,\n",
       " 92.98461538461538,\n",
       " 92.92307692307692,\n",
       " 92.86153846153846,\n",
       " 92.92307692307692,\n",
       " 92.92307692307692,\n",
       " 92.92307692307692,\n",
       " 92.86153846153846,\n",
       " 92.86153846153846,\n",
       " 92.86153846153846]"
      ]
     },
     "execution_count": 128,
     "metadata": {},
     "output_type": "execute_result"
    }
   ],
   "source": [
    "acc"
   ]
  },
  {
   "cell_type": "code",
   "execution_count": 129,
   "id": "66ad54e4",
   "metadata": {},
   "outputs": [],
   "source": [
    "k_values =list(range(1,200))"
   ]
  },
  {
   "cell_type": "code",
   "execution_count": 130,
   "id": "e6896b78",
   "metadata": {},
   "outputs": [],
   "source": [
    "import matplotlib.pyplot as plt\n"
   ]
  },
  {
   "cell_type": "code",
   "execution_count": 131,
   "id": "cbf9f1d7",
   "metadata": {},
   "outputs": [
    {
     "data": {
      "text/plain": [
       "[<matplotlib.lines.Line2D at 0x1b29bb33a60>]"
      ]
     },
     "execution_count": 131,
     "metadata": {},
     "output_type": "execute_result"
    },
    {
     "data": {
      "image/png": "[encoded data removed]",
      "text/plain": [
       "<Figure size 432x288 with 1 Axes>"
      ]
     },
     "metadata": {
      "needs_background": "light"
     },
     "output_type": "display_data"
    }
   ],
   "source": [
    "plt.plot(k_values,acc)"
   ]
  },
  {
   "cell_type": "code",
   "execution_count": 132,
   "id": "2fcb3feb",
   "metadata": {
    "scrolled": true
   },
   "outputs": [
    {
     "data": {
      "text/plain": [
       "[<matplotlib.lines.Line2D at 0x1b29e7ebe20>]"
      ]
     },
     "execution_count": 132,
     "metadata": {},
     "output_type": "execute_result"
    },
    {
     "data": {
      "image/png": "[encoded data removed]",
      "text/plain": [
       "<Figure size 432x288 with 1 Axes>"
      ]
     },
     "metadata": {
      "needs_background": "light"
     },
     "output_type": "display_data"
    }
   ],
   "source": [
    "plt.plot(k_values,acc,\"*\")"
   ]
  },
  {
   "cell_type": "markdown",
   "id": "7deb92d0",
   "metadata": {},
   "source": [
    "# Observation :-\n",
    "Accuracy for the Knn model is 0.95 means around 95% "
   ]
  },
  {
   "cell_type": "markdown",
   "id": "cdb7c4c8",
   "metadata": {},
   "source": [
    "# Lets build a model based on SVM"
   ]
  },
  {
   "cell_type": "code",
   "execution_count": 88,
   "id": "b5fc2ec8",
   "metadata": {},
   "outputs": [],
   "source": [
    "from sklearn.svm import SVC"
   ]
  },
  {
   "cell_type": "code",
   "execution_count": 89,
   "id": "dec62921",
   "metadata": {},
   "outputs": [],
   "source": [
    "svc_ms= SVC()"
   ]
  },
  {
   "cell_type": "code",
   "execution_count": 90,
   "id": "c6ace0a5",
   "metadata": {},
   "outputs": [
    {
     "data": {
      "text/plain": [
       "SVC()"
      ]
     },
     "execution_count": 90,
     "metadata": {},
     "output_type": "execute_result"
    }
   ],
   "source": [
    "svc_ms.fit(ms_train_x, ms_train_y)"
   ]
  },
  {
   "cell_type": "code",
   "execution_count": 91,
   "id": "565f9c22",
   "metadata": {},
   "outputs": [],
   "source": [
    "pred_ms=svc_ms.predict(ms_test_x)"
   ]
  },
  {
   "cell_type": "code",
   "execution_count": 92,
   "id": "6fc24e7d",
   "metadata": {},
   "outputs": [
    {
     "data": {
      "text/plain": [
       "array([1, 0, 1, ..., 1, 1, 1], dtype=int64)"
      ]
     },
     "execution_count": 92,
     "metadata": {},
     "output_type": "execute_result"
    }
   ],
   "source": [
    "pred_ms"
   ]
  },
  {
   "cell_type": "code",
   "execution_count": 93,
   "id": "abadc1e1",
   "metadata": {},
   "outputs": [],
   "source": [
    "from sklearn.metrics import confusion_matrix\n"
   ]
  },
  {
   "cell_type": "code",
   "execution_count": 94,
   "id": "60e7f70b",
   "metadata": {},
   "outputs": [],
   "source": [
    "tab1= confusion_matrix(ms_test_y,pred_ms)"
   ]
  },
  {
   "cell_type": "code",
   "execution_count": 95,
   "id": "a783859b",
   "metadata": {},
   "outputs": [
    {
     "data": {
      "text/plain": [
       "array([[727,  15],\n",
       "       [  1, 882]], dtype=int64)"
      ]
     },
     "execution_count": 95,
     "metadata": {},
     "output_type": "execute_result"
    }
   ],
   "source": [
    "tab1"
   ]
  },
  {
   "cell_type": "code",
   "execution_count": 96,
   "id": "e46f6609",
   "metadata": {},
   "outputs": [],
   "source": [
    "from sklearn.metrics import accuracy_score\n",
    "from sklearn.metrics import recall_score\n",
    "from sklearn.metrics import f1_score\n",
    "from sklearn.metrics import precision_score\n"
   ]
  },
  {
   "cell_type": "code",
   "execution_count": 185,
   "id": "8b7e926f",
   "metadata": {},
   "outputs": [
    {
     "data": {
      "text/plain": [
       "0.9507692307692308"
      ]
     },
     "execution_count": 185,
     "metadata": {},
     "output_type": "execute_result"
    }
   ],
   "source": [
    "acc = accuracy_score(ms_test_y,pred_ms)\n",
    "accuracies['SVM'] = acc\n",
    "acc"
   ]
  },
  {
   "cell_type": "code",
   "execution_count": null,
   "id": "6a64463a",
   "metadata": {},
   "outputs": [],
   "source": []
  },
  {
   "cell_type": "code",
   "execution_count": 98,
   "id": "7041991c",
   "metadata": {},
   "outputs": [
    {
     "data": {
      "text/plain": [
       "0.9988674971687429"
      ]
     },
     "execution_count": 98,
     "metadata": {},
     "output_type": "execute_result"
    }
   ],
   "source": [
    "recall_score(ms_test_y,pred_ms)"
   ]
  },
  {
   "cell_type": "code",
   "execution_count": 99,
   "id": "7ca437e0",
   "metadata": {},
   "outputs": [
    {
     "data": {
      "text/plain": [
       "0.9832775919732442"
      ]
     },
     "execution_count": 99,
     "metadata": {},
     "output_type": "execute_result"
    }
   ],
   "source": [
    "precision_score(ms_test_y,pred_ms)"
   ]
  },
  {
   "cell_type": "code",
   "execution_count": 145,
   "id": "2eeee8eb",
   "metadata": {},
   "outputs": [],
   "source": [
    "svc_ms= SVC(kernel='linear')"
   ]
  },
  {
   "cell_type": "code",
   "execution_count": 146,
   "id": "34a27697",
   "metadata": {},
   "outputs": [
    {
     "data": {
      "text/plain": [
       "SVC(kernel='linear')"
      ]
     },
     "execution_count": 146,
     "metadata": {},
     "output_type": "execute_result"
    }
   ],
   "source": [
    "svc_ms.fit(ms_train_x, ms_train_y)"
   ]
  },
  {
   "cell_type": "code",
   "execution_count": 147,
   "id": "80abdcb1",
   "metadata": {},
   "outputs": [],
   "source": [
    "pred_ms=svc_ms.predict(ms_test_x)"
   ]
  },
  {
   "cell_type": "code",
   "execution_count": 148,
   "id": "4bb17023",
   "metadata": {},
   "outputs": [],
   "source": [
    "tab1= confusion_matrix(ms_test_y,pred_ms)"
   ]
  },
  {
   "cell_type": "code",
   "execution_count": 149,
   "id": "4050db4a",
   "metadata": {},
   "outputs": [
    {
     "data": {
      "text/plain": [
       "array([[740,  26],\n",
       "       [ 14, 845]], dtype=int64)"
      ]
     },
     "execution_count": 149,
     "metadata": {},
     "output_type": "execute_result"
    }
   ],
   "source": [
    "tab1"
   ]
  },
  {
   "cell_type": "markdown",
   "id": "866c6411",
   "metadata": {},
   "source": [
    "# Observation :-\n",
    " Accuracy of a SVM model is 99% "
   ]
  },
  {
   "cell_type": "markdown",
   "id": "036c21b4",
   "metadata": {},
   "source": [
    "# Comparing Model"
   ]
  },
  {
   "cell_type": "code",
   "execution_count": 201,
   "id": "6cfad1fe",
   "metadata": {},
   "outputs": [
    {
     "data": {
      "image/png": "[encoded data removed]",
      "text/plain": [
       "<Figure size 1152x432 with 1 Axes>"
      ]
     },
     "metadata": {},
     "output_type": "display_data"
    }
   ],
   "source": [
    "colors = [\"purple\", \"green\", \"orange\", \"magenta\",\"#CFC60E\",\"#0FBBAE\",\"blue\"]\n",
    "\n",
    "sns.set_style(\"whitegrid\")\n",
    "plt.figure(figsize=(16,6))\n",
    "plt.yticks(np.arange(0,100,12))\n",
    "plt.ylabel(\"Accuracy %\")\n",
    "plt.xlabel(\"Algorithms\")\n",
    "sns.barplot(x=list(accuracies.keys()), y=list(accuracies.values()), palette=colors)\n",
    "plt.show()"
   ]
  },
  {
   "cell_type": "markdown",
   "id": "c8c36d9f",
   "metadata": {},
   "source": [
    "# Observation \n",
    "From the above graph we say that our models work fine but best of them \n",
    "are Random Forest with Gini , accuracy is arround 99% . "
   ]
  },
  {
   "cell_type": "code",
   "execution_count": null,
   "id": "15f98ddc",
   "metadata": {},
   "outputs": [],
   "source": []
  }
 ],
 "metadata": {
  "kernelspec": {
   "display_name": "Python 3 (ipykernel)",
   "language": "python",
   "name": "python3"
  },
  "language_info": {
   "codemirror_mode": {
    "name": "ipython",
    "version": 3
   },
   "file_extension": ".py",
   "mimetype": "text/x-python",
   "name": "python",
   "nbconvert_exporter": "python",
   "pygments_lexer": "ipython3",
   "version": "3.9.12"
  }
 },
 "nbformat": 4,
 "nbformat_minor": 5
}
